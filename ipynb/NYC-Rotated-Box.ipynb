{
 "cells": [
  {
   "cell_type": "code",
   "execution_count": 2,
   "metadata": {
    "collapsed": false,
    "tags": [
     "worksheet-0"
    ]
   },
   "outputs": [],
   "source": [
    "import os, sys\n",
    "sys.path.append(os.path.abspath('../kernel_inference'))\n",
    "from mapbox import *\n",
    "from kernel_inference import Rect, RBins\n",
    "from geojson_utils import FeatureCollection\n",
    "import numpy as np\n",
    "\n",
    "%matplotlib inline\n",
    "%load_ext autoreload\n",
    "%autoreload 2"
   ]
  },
  {
   "cell_type": "code",
   "execution_count": 12,
   "metadata": {
    "collapsed": false,
    "tags": [
     "worksheet-0"
    ]
   },
   "outputs": [
    {
     "name": "stdout",
     "output_type": "stream",
     "text": [
      "[[ 0.80901699 -0.58778525]\n",
      " [ 0.39766626  0.94714653]] -74.038658 40.711516\n"
     ]
    }
   ],
   "source": [
    "ROT       = 36                 # Degree of rotation\n",
    "LON, LAT  = -74.038658, 40.711516\n",
    "DIAF      = -0.235\n",
    "GRID_SIZE = 0.0022\n",
    "\n",
    "rbs = RBins(LON, LAT, ROT * np.pi / 180, GRID_SIZE, dia_fac=DIAF)\n",
    "\n",
    "print rbs.trf_mat, rbs.x0, rbs.y0\n",
    "\n",
    "assert rbs.inv_trans(0, 0) == (LON, LAT)\n",
    "assert rbs.trans(LON, LAT) == (0, 0)\n",
    "\n",
    "# Testing\n",
    "for x, y in [(0, 1), (100, 100), (0, 0), (112, 23), (1, 0)]:\n",
    "    xp, yp = rbs.trans(*rbs.inv_trans(x, y))\n",
    "    assert np.isclose(xp, x) and np.isclose(yp, y), (x, y, xp, yp)\n",
    "\n",
    "fc = FeatureCollection()\n",
    "for i in range(23):\n",
    "    for j in range(40):\n",
    "        fc.add_polygon(rbs.get_poly(i, j), {})\n",
    "fc.add_polygon(rbs.get_poly(0, 0), {})\n",
    "fc.dump('test.geojson')"
   ]
  }
 ],
 "metadata": {},
 "nbformat": 4,
 "nbformat_minor": 0
}
