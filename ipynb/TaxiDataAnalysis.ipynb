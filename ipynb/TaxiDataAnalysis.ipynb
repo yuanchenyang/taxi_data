{
 "cells": [
  {
   "cell_type": "markdown",
   "metadata": {
    "collapsed": true,
    "tags": [
     "worksheet-0"
    ]
   },
   "source": [
    "## Import statements and load data"
   ]
  },
  {
   "cell_type": "code",
   "execution_count": 39,
   "metadata": {
    "collapsed": false,
    "tags": [
     "worksheet-0"
    ]
   },
   "outputs": [],
   "source": [
    "import requests\n",
    "\n",
    "import datetime as dt\n",
    "import pandas as pd\n",
    "import numpy as np\n",
    "import matplotlib.cm as cm\n",
    "import cartopy.crs as ccrs\n",
    "\n",
    "\n",
    "from matplotlib import animation\n",
    "from matplotlib import pyplot as plt\n",
    "from matplotlib.patches import Rectangle\n",
    "from matplotlib.collections import LineCollection\n",
    "from cartopy.io.img_tiles import MapboxTiles\n",
    "from polyline.codec import PolylineCodec\n",
    "\n",
    "%matplotlib inline"
   ]
  },
  {
   "cell_type": "code",
   "execution_count": 3,
   "metadata": {
    "collapsed": false,
    "tags": [
     "worksheet-0"
    ]
   },
   "outputs": [
    {
     "name": "stdout",
     "output_type": "stream",
     "text": [
      "Data size: 188392\n"
     ]
    }
   ],
   "source": [
    "INPUT_FILE = '../data/trip_data_1_full.csv'\n",
    "DATETIME_FORMAT = '%Y-%m-%d %H:%M:%S'\n",
    "\n",
    "# Number of time slices to split a day into\n",
    "NFRAMES = 24\n",
    "\n",
    "# Trips taking longer than this amount (in seconds) will be filtered off\n",
    "TRIP_TIME_CUTOFF = 1500\n",
    "\n",
    "# Bounding box for location-based filtering\n",
    "LAT_MIN, LAT_MAX = 40.76041, 40.76507\n",
    "LON_MIN, LON_MAX = -73.98164, -73.97653\n",
    "RECT = [LON_MIN, LON_MAX, LAT_MIN, LAT_MAX]\n",
    "\n",
    "def filter_df(df, rect, dir='pickup'):\n",
    "    ''' Filters a dataframe object based on location\n",
    "    '''\n",
    "    df = df[(df['{}_longitude'.format(dir)] >= rect[0]) &\n",
    "            (df['{}_longitude'.format(dir)] <= rect[1]) &\n",
    "            (df['{}_latitude'.format(dir)]  >= rect[2]) &\n",
    "            (df['{}_latitude'.format(dir)]  <= rect[3])]\n",
    "    return df\n",
    "\n",
    "# Load and filter data without reading entire csv at once\n",
    "data_iterator = pd.read_csv(INPUT_FILE, iterator=True, chunksize=10000)\n",
    "td = pd.concat((filter_df(df, RECT) for df in data_iterator), ignore_index=True)\n",
    "\n",
    "print 'Data size: ' + str(len(td))"
   ]
  },
  {
   "cell_type": "code",
   "execution_count": 4,
   "metadata": {
    "collapsed": false,
    "tags": [
     "worksheet-0"
    ]
   },
   "outputs": [
    {
     "data": {
      "text/plain": [
       "<matplotlib.figure.Figure at 0x7f5123c42710>"
      ]
     },
     "metadata": {},
     "output_type": "display_data"
    }
   ],
   "source": [
    "# Cut off long tail\n",
    "td=td[td['trip_time_in_secs'] < TRIP_TIME_CUTOFF]\n",
    "trip_time_full = np.asarray(td['trip_time_in_secs'], dtype=np.int)\n",
    "\n",
    "# Plot trip time histogram\n",
    "plt.hist(trip_time_full,bins=100)\n",
    "plt.show()"
   ]
  },
  {
   "cell_type": "code",
   "execution_count": 5,
   "metadata": {
    "collapsed": false,
    "tags": [
     "worksheet-0"
    ]
   },
   "outputs": [
    {
     "data": {
      "text/plain": [
       "<matplotlib.figure.Figure at 0x7f514c0f3950>"
      ]
     },
     "metadata": {},
     "output_type": "display_data"
    }
   ],
   "source": [
    "# Convert to correct datetime\n",
    "td['pickup_datetime'] = pd.to_datetime(td['pickup_datetime'])\n",
    "td['dropoff_datetime'] = pd.to_datetime(td['dropoff_datetime'])\n",
    "\n",
    "# Create datetime index\n",
    "tdi = td.set_index(pd.DatetimeIndex(td['pickup_datetime']))\n",
    "\n",
    "# Computes time intervals\n",
    "starts = [dt.time(x / 60, x % 60) for x in range(0, 1440, 1440 / NFRAMES)]\n",
    "ends = starts[1:] + [starts[0]]\n",
    "\n",
    "# Plots trips against time\n",
    "trips = [tdi.between_time(s, e) for s, e in zip(starts, ends)]\n",
    "plt.plot(starts, map(len, trips))\n",
    "plt.xticks(rotation='vertical')\n",
    "plt.show()"
   ]
  },
  {
   "cell_type": "markdown",
   "metadata": {
    "collapsed": true,
    "tags": [
     "worksheet-0"
    ]
   },
   "source": [
    "## Plot a map color-coding with trip times "
   ]
  },
  {
   "cell_type": "code",
   "execution_count": 34,
   "metadata": {
    "collapsed": false,
    "tags": [
     "worksheet-0"
    ]
   },
   "outputs": [],
   "source": [
    "# Add a map using a mapbox template\n",
    "mapbox_token = 'pk.eyJ1IjoiY2hlbnlhbmciLCJhIjoiNjAwYTI1MDExNDdmYzVkZWY0M2NkNjQyMDJkZjhkOTMifQ.G7P8sFypgRqFW2QNaEZocQ'\n",
    "mapbox_mapid = 'chenyang.e39eae3e'\n",
    "mapbox_tiles = MapboxTiles(mapbox_token, mapbox_mapid)\n",
    "manhattan_rect = [-74.025, -73.92, 40.70, 40.85]\n",
    "\n",
    "def draw_frame(frame_no=None):\n",
    "    # Create new axes, using the tiles' projection for the underlying map.\n",
    "    plt.clf()\n",
    "    ax = plt.axes(projection=mapbox_tiles.crs)\n",
    "    \n",
    "    # Load data for current frame\n",
    "    if frame_no is None:\n",
    "        data = td\n",
    "    else:\n",
    "        data = trips[frame_no]\n",
    "    dropoff_lat = np.asarray(data['dropoff_latitude'], dtype=np.float)\n",
    "    dropoff_lon = np.asarray(data['dropoff_longitude'], dtype=np.float)\n",
    "    trip_time = np.asarray(data['trip_time_in_secs'], dtype=np.int)\n",
    "        \n",
    "    # Add the tiles at zoom level 13.\n",
    "    ax.add_image(mapbox_tiles, 13)\n",
    "    \n",
    "    # Specify a region of interest, in this case, Manhattan.\n",
    "    ax.set_extent(manhattan_rect, ccrs.PlateCarree())\n",
    "\n",
    "    # Plot the origin area\n",
    "    ax.add_patch(Rectangle((LON_MIN, LAT_MIN), LON_MAX-LON_MIN, LAT_MAX-LAT_MIN, \n",
    "                 facecolor=\"blue\", alpha=0.3, lw=0,\n",
    "                 transform=ccrs.PlateCarree()))\n",
    "    \n",
    "    # Plot destinations, color coded by travel times\n",
    "    sc = ax.scatter(dropoff_lon, dropoff_lat, \n",
    "                    marker='.', s=15, lw=0, \n",
    "                    c=trip_time, cmap=cm.RdYlGn_r, vmin=0, vmax=TRIP_TIME_CUTOFF,\n",
    "                    transform=ccrs.PlateCarree())\n",
    "        \n",
    "    # Scale and labels\n",
    "    cur_time = starts[frame_no] if frame_no != None else 'All'\n",
    "    plt.title('Dropoff Locations at Time: {}'.format(cur_time))\n",
    "    plt.colorbar(sc).set_label('Trip time in seconds')"
   ]
  },
  {
   "cell_type": "code",
   "execution_count": null,
   "metadata": {
    "collapsed": false,
    "tags": [
     "worksheet-0"
    ]
   },
   "outputs": [],
   "source": [
    "# Render and save animation\n",
    "plt.clf()\n",
    "fig = plt.figure(figsize=(16, 16))\n",
    "anim = animation.FuncAnimation(fig, draw_frame, frames=NFRAMES)\n",
    "anim.save('animation.gif', writer='imagemagick', fps=4)"
   ]
  },
  {
   "cell_type": "code",
   "execution_count": 35,
   "metadata": {
    "collapsed": false,
    "tags": [
     "worksheet-0"
    ]
   },
   "outputs": [
    {
     "data": {
      "text/plain": [
       "<matplotlib.figure.Figure at 0x7f51235c50d0>"
      ]
     },
     "metadata": {},
     "output_type": "display_data"
    }
   ],
   "source": [
    "# Plot all trips\n",
    "fig = plt.figure(figsize=(16, 16))\n",
    "draw_frame()"
   ]
  },
  {
   "cell_type": "code",
   "execution_count": 76,
   "metadata": {
    "collapsed": false,
    "tags": [
     "worksheet-0"
    ]
   },
   "outputs": [
    {
     "data": {
      "text/plain": [
       "<matplotlib.figure.Figure at 0x7f51208c1d50>"
      ]
     },
     "metadata": {},
     "output_type": "display_data"
    }
   ],
   "source": [
    "# Testing OSRM\n",
    "OSRM_SERVER = 'http://127.0.0.1:5000'\n",
    "\n",
    "def decode(geom):\n",
    "    ''' Polyline library returns 6 decimal places, so we divide each coord\n",
    "    by 10 here\n",
    "    '''\n",
    "    return [(x / 10, y / 10) for x, y in PolylineCodec().decode(geom)]\n",
    "\n",
    "def get_route(row):\n",
    "    plat, plon = row['pickup_latitude'], row['pickup_longitude']\n",
    "    dlat, dlon = row['dropoff_latitude'], row['dropoff_longitude']\n",
    "    \n",
    "    url = '{}/viaroute?loc={},{}&loc={},{}'.format(OSRM_SERVER, plat, plon, dlat, dlon)\n",
    "    res = requests.get(url).json()\n",
    "    if 'route_geometry' not in res:\n",
    "        print res\n",
    "    return decode(res['route_geometry'])\n",
    "\n",
    "def make_segments(x, y):\n",
    "    '''Create list of line segments from x and y coordinates, in the correct\n",
    "    format for LineCollection: an array of the form:\n",
    "    numlines x (points per line) x 2 (x and y) array\n",
    "    '''\n",
    "    points = np.array([x, y]).T.reshape(-1, 1, 2)\n",
    "    return np.concatenate([points[:-1], points[1:]], axis=1)\n",
    "\n",
    "\n",
    "plt.figure(figsize=(15, 15))\n",
    "norm = plt.Normalize(0.0, 1.0)\n",
    "ax = plt.gca()\n",
    "ax = plt.axes(projection=mapbox_tiles.crs)\n",
    "\n",
    "plt.xlim(manhattan_rect[2:])\n",
    "plt.ylim(manhattan_rect[:2])\n",
    "\n",
    "# Specify a region of interest, in this case, Manhattan.\n",
    "#ax.set_extent(manhattan_rect, mapbox_tiles.crs)\n",
    "\n",
    "# Add the tiles at zoom level 13.\n",
    "#ax.add_image(mapbox_tiles, 13)\n",
    "\n",
    "for _, row in list(trips[5].iterrows()):\n",
    "    try:\n",
    "        x, y = zip(*get_route(row))\n",
    "    except:\n",
    "        continue\n",
    "    z = np.linspace(0.0, row['trip_time_in_secs']/1500.0, len(x))\n",
    "    lc = LineCollection(make_segments(x, y), array=z, cmap=cm.RdYlGn_r, norm=norm)\n",
    "    lc.set_transform(mapbox_tiles.crs)\n",
    "    ax.add_collection(lc)\n",
    "\n",
    "plt.show()\n"
   ]
  }
 ],
 "metadata": {
  "kernelspec": {
   "display_name": "Python 2",
   "language": "python",
   "name": "python2"
  },
  "language_info": {
   "codemirror_mode": {
    "name": "ipython",
    "version": 2
   },
   "file_extension": ".py",
   "mimetype": "text/x-python",
   "name": "python",
   "nbconvert_exporter": "python",
   "pygments_lexer": "ipython2",
   "version": "2.7.10"
  },
  "name": "TaxiDataAnalysis.ipynb"
 },
 "nbformat": 4,
 "nbformat_minor": 0
}
