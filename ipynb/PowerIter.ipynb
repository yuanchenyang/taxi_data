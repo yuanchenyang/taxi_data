{
 "cells": [
  {
   "cell_type": "code",
   "execution_count": 1,
   "metadata": {
    "collapsed": false,
    "tags": [
     "worksheet-0"
    ]
   },
   "outputs": [
    {
     "name": "stdout",
     "output_type": "stream",
     "text": [
      "Using matplotlib backend: Qt5Agg\n",
      "Populating the interactive namespace from numpy and matplotlib\n"
     ]
    }
   ],
   "source": [
    "%pylab\n",
    "%matplotlib inline\n",
    "import scipy.linalg as sla"
   ]
  },
  {
   "cell_type": "code",
   "execution_count": 27,
   "metadata": {
    "collapsed": false,
    "tags": [
     "worksheet-0"
    ]
   },
   "outputs": [],
   "source": [
    "def rand_dist(n):\n",
    "    dist = np.random.sample(n)\n",
    "    return dist / sum(dist)\n",
    "\n",
    "def rand_sto_mat(n):\n",
    "    '''Generates a random column-stochastic nxn matrix'''\n",
    "    return np.array([rand_dist(n) for _ in range(n)]).T\n",
    "\n",
    "def norm(vec, p=2):\n",
    "    '''Normalizes vec using the L-p norm'''\n",
    "    return vec / np.linalg.norm(vec, 1)\n",
    "\n",
    "def get_nth_eigens(m, n=0, p=1):\n",
    "    '''Returns n-th largest eigenvector and eigenvalue, L-p normalized.'''\n",
    "    evals, evecs = sla.eig(m, right=True)\n",
    "    index, evl = sorted(enumerate(evals), key=lambda x: abs(x[1]), reverse=True)[n]\n",
    "    ev = np.real(evecs[:,index])\n",
    "    return evl, norm(ev / ev[0])\n",
    "\n",
    "def power_iter(m, niters=100):\n",
    "    v  = rand_dist(np.shape(m)[0])\n",
    "    for _ in range(niters):\n",
    "        v = norm(m.dot(v))\n",
    "    return v\n",
    "\n",
    "def nth_eigen_iter(m, n=0, niters=100):\n",
    "    '''Find the n-th highest eigenvector using power iteration'''\n",
    "    ev = power_iter(m)\n",
    "    evl = np.mean(m.dot(ev) / ev)\n",
    "    for _ in range(n):\n",
    "        m = m - evl * ev.dot(ev.T)\n",
    "        ev = power_iter(m)\n",
    "        evl = np.mean(m.dot(ev) / ev)\n",
    "    return evl, norm(ev / ev[0])"
   ]
  },
  {
   "cell_type": "code",
   "execution_count": 3,
   "metadata": {
    "collapsed": false,
    "tags": [
     "worksheet-0"
    ]
   },
   "outputs": [
    {
     "name": "stdout",
     "output_type": "stream",
     "text": [
      "CPU times: user 900 ms, sys: 3.33 ms, total: 903 ms\n",
      "Wall time: 928 ms\n",
      "CPU times: user 30 ms, sys: 0 ns, total: 30 ms\n",
      "Wall time: 30.3 ms\n"
     ]
    }
   ],
   "source": [
    "# Test computing first eigenvalue \n",
    "m = rand_sto_mat(500)\n",
    "%time evl, ev = get_nth_eigens(m)\n",
    "%time pevl, pev = nth_eigen_iter(m)\n",
    "# print(evl, ev)\n",
    "# print(pev)\n",
    "assert np.linalg.norm(pev - ev) < 1e-15, np.linalg.norm(pev - ev)"
   ]
  },
  {
   "cell_type": "code",
   "execution_count": 7,
   "metadata": {
    "collapsed": false,
    "tags": [
     "worksheet-0"
    ]
   },
   "outputs": [
    {
     "name": "stdout",
     "output_type": "stream",
     "text": [
      "\n",
      "Wall time: 4 s\n"
     ]
    },
    {
     "name": "stdout",
     "output_type": "stream",
     "text": [
      "\n",
      "Wall time: 1.02 s\n",
      "CPU times: user 3.93 s, sys: 66.7 ms, total: 3.99 s"
     ]
    },
    {
     "name": "stdout",
     "output_type": "stream",
     "text": [
      "\n",
      "Wall time: 511 ms\n",
      "CPU times: user 1.02 s, sys: 0 ns, total: 1.02 s"
     ]
    },
    {
     "name": "stdout",
     "output_type": "stream",
     "text": [
      "\n",
      "Wall time: 293 ms\n",
      "CPU times: user 510 ms, sys: 0 ns, total: 510 ms"
     ]
    },
    {
     "name": "stdout",
     "output_type": "stream",
     "text": [
      "CPU times: user 40 ms, sys: 0 ns, total: 40 ms\n",
      "Wall time: 37.5 ms\n",
      "CPU times: user 293 ms, sys: 0 ns, total: 293 ms"
     ]
    }
   ],
   "source": [
    "# Timing tests\n",
    "%time _, __ = nth_eigen_iter(rand_sto_mat(500))\n",
    "%time _, __ = nth_eigen_iter(rand_sto_mat(1000))\n",
    "%time _, __ = nth_eigen_iter(rand_sto_mat(1500))\n",
    "%time _, __ = nth_eigen_iter(rand_sto_mat(2000))\n",
    "%time _, __ = nth_eigen_iter(rand_sto_mat(2500))"
   ]
  },
  {
   "cell_type": "code",
   "execution_count": 66,
   "metadata": {
    "collapsed": false,
    "tags": [
     "worksheet-0"
    ]
   },
   "outputs": [
    {
     "data": {
      "text/plain": [
       "<matplotlib.figure.Figure at 0x7f6eb3795f28>"
      ]
     },
     "metadata": {},
     "output_type": "display_data"
    },
    {
     "data": {
      "text/plain": [
       "(array([ 546.,   86.,   47.,   88.,   49.,   46.,   46.,   47.,   34.,   11.]),\n array([  1.36592263e-16,   8.95946693e-02,   1.79189339e-01,\n          2.68784008e-01,   3.58378677e-01,   4.47973347e-01,\n          5.37568016e-01,   6.27162685e-01,   7.16757355e-01,\n          8.06352024e-01,   8.95946693e-01]),\n <a list of 10 Patch objects>)"
      ]
     },
     "execution_count": 66,
     "metadata": {},
     "output_type": "execute_result"
    }
   ],
   "source": [
    "# Test computing second eigenvalue\n",
    "lst = []\n",
    "for _ in range(1000):\n",
    "    m = rand_sto_mat(10)\n",
    "    evl, ev = get_nth_eigens(m, n=1)\n",
    "    pevl, pev = nth_eigen_iter(m, n=1,niters=500)\n",
    "    lst.append(np.linalg.norm(ev-pev))\n",
    "plt.hist(lst)"
   ]
  }
 ],
 "metadata": {},
 "nbformat": 4,
 "nbformat_minor": 0
}
