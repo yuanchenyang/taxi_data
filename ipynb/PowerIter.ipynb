{
 "cells": [
  {
   "cell_type": "code",
   "execution_count": 1,
   "metadata": {
    "collapsed": false,
    "tags": [
     "worksheet-0"
    ]
   },
   "outputs": [],
   "source": [
    "%matplotlib inline\n",
    "import sys, os\n",
    "import matplotlib.pyplot as plt\n",
    "\n",
    "sys.path.append(os.path.abspath('../kernel_inference'))\n",
    "from power_iteration import *\n",
    "\n",
    "%load_ext autoreload\n",
    "%autoreload 2"
   ]
  },
  {
   "cell_type": "code",
   "execution_count": 2,
   "metadata": {
    "collapsed": false,
    "tags": [
     "worksheet-0"
    ]
   },
   "outputs": [
    {
     "name": "stdout",
     "output_type": "stream",
     "text": [
      "CPU times: user 903 ms, sys: 0 ns, total: 903 ms\n",
      "Wall time: 904 ms\n",
      "CPU times: user 26.7 ms, sys: 0 ns, total: 26.7 ms\n",
      "Wall time: 28.9 ms\n"
     ]
    }
   ],
   "source": [
    "# Test computing first eigenvalue \n",
    "m = rand_sto_mat(500)\n",
    "%time evl, ev = get_nth_eigens(m)\n",
    "%time pevl, pev = nth_eigen_iter(m)\n",
    "# print(evl, ev)\n",
    "# print(pev)\n",
    "assert np.linalg.norm(pev - ev) < 1e-15, np.linalg.norm(pev - ev)"
   ]
  },
  {
   "cell_type": "code",
   "execution_count": 3,
   "metadata": {
    "collapsed": false,
    "tags": [
     "worksheet-0"
    ]
   },
   "outputs": [
    {
     "name": "stdout",
     "output_type": "stream",
     "text": [
      "\n",
      "Wall time: 6.71 s\n"
     ]
    },
    {
     "name": "stdout",
     "output_type": "stream",
     "text": [
      "\n",
      "Wall time: 4.1 s\n",
      "CPU times: user 6.69 s, sys: 16.7 ms, total: 6.71 s"
     ]
    },
    {
     "name": "stdout",
     "output_type": "stream",
     "text": [
      "\n",
      "Wall time: 2.08 s\n",
      "CPU times: user 4.08 s, sys: 13.3 ms, total: 4.1 s"
     ]
    },
    {
     "name": "stdout",
     "output_type": "stream",
     "text": [
      "\n",
      "Wall time: 372 ms\n",
      "CPU times: user 2.07 s, sys: 3.33 ms, total: 2.07 s"
     ]
    },
    {
     "name": "stdout",
     "output_type": "stream",
     "text": [
      "CPU times: user 63.3 ms, sys: 0 ns, total: 63.3 ms\n",
      "Wall time: 62.7 ms\n",
      "CPU times: user 370 ms, sys: 0 ns, total: 370 ms"
     ]
    }
   ],
   "source": [
    "# Timing tests\n",
    "%time _, __ = nth_eigen_iter(rand_sto_mat(500))\n",
    "%time _, __ = nth_eigen_iter(rand_sto_mat(1000))\n",
    "%time _, __ = nth_eigen_iter(rand_sto_mat(1500))\n",
    "%time _, __ = nth_eigen_iter(rand_sto_mat(2000))\n",
    "%time _, __ = nth_eigen_iter(rand_sto_mat(2500))"
   ]
  },
  {
   "cell_type": "code",
   "execution_count": 4,
   "metadata": {
    "collapsed": false,
    "tags": [
     "worksheet-0"
    ]
   },
   "outputs": [
    {
     "data": {
      "text/plain": [
       "<matplotlib.figure.Figure at 0x7f0c409aff98>"
      ]
     },
     "metadata": {},
     "output_type": "display_data"
    },
    {
     "data": {
      "text/plain": [
       "(array([ 543.,   86.,   79.,   65.,   46.,   49.,   40.,   54.,   28.,   10.]),\n array([  1.43311679e-16,   8.89579005e-02,   1.77915801e-01,\n          2.66873701e-01,   3.55831602e-01,   4.44789502e-01,\n          5.33747403e-01,   6.22705303e-01,   7.11663204e-01,\n          8.00621104e-01,   8.89579005e-01]),\n <a list of 10 Patch objects>)"
      ]
     },
     "execution_count": 4,
     "metadata": {},
     "output_type": "execute_result"
    }
   ],
   "source": [
    "# Test computing second eigenvalue\n",
    "lst = []\n",
    "for _ in range(1000):\n",
    "    m = rand_sto_mat(10)\n",
    "    evl, ev = get_nth_eigens(m, n=1)\n",
    "    pevl, pev = nth_eigen_iter(m, n=1,niters=500)\n",
    "    lst.append(np.linalg.norm(ev-pev))\n",
    "plt.hist(lst)"
   ]
  }
 ],
 "metadata": {},
 "nbformat": 4,
 "nbformat_minor": 0
}
