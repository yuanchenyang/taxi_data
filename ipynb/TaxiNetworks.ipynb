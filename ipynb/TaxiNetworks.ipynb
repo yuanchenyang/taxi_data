{
 "cells": [
  {
   "cell_type": "markdown",
   "metadata": {
    "collapsed": true,
    "tags": [
     "worksheet-0"
    ]
   },
   "source": [
    "# Taxi Networks simulation\n",
    "\n",
    "In this notebook, we will demonstrate code that simulates the behavior of taxis\n",
    "in queueing networks. We are modeling this using a Jackson network, which models\n",
    "taxis as customers traveling in the network. Taxis queue at each station $$i$$,\n",
    "and are served by customers arriving at a rate of $$\\mu_i$$. After a customer\n",
    "gets on a taxi, it travels to another station $$j$$ with probability\n",
    "$$r_{ij}$$. We assume the taxis "
   ]
  },
  {
   "cell_type": "code",
   "execution_count": 26,
   "metadata": {
    "collapsed": false,
    "tags": [
     "worksheet-0"
    ]
   },
   "outputs": [],
   "source": [
    "import numpy as np\n",
    "import scipy.stats as sps\n",
    "from matplotlib import pyplot as plt\n",
    "%matplotlib inline"
   ]
  },
  {
   "cell_type": "markdown",
   "metadata": {
    "collapsed": true,
    "tags": [
     "worksheet-0"
    ]
   },
   "source": [
    "Here we define the main objects we use in the simulation"
   ]
  },
  {
   "cell_type": "code",
   "execution_count": 97,
   "metadata": {
    "collapsed": false,
    "tags": [
     "worksheet-0"
    ]
   },
   "outputs": [
    {
     "data": {
      "text/plain": [
       "1.9875"
      ]
     },
     "execution_count": 97,
     "metadata": {},
     "output_type": "execute_result"
    }
   ],
   "source": [
    "class Node:\n",
    "    '''A Node object in a Jackson network simulates a queue with an exponential service time.'''\n",
    "    def __init__(self, node_id, lam, r, dt=1):\n",
    "        '''\n",
    "        node_id: Unique integer id for each node\n",
    "        lam    : Service rate (vehicles per time)\n",
    "        r      : Routing probability from node id to probability\n",
    "        dt     : Timestep \n",
    "        '''\n",
    "        assert sum(r.values()) == 1, 'Routing probabilities do not sum to 1!'\n",
    "        self.id = node_id\n",
    "        self.r = r\n",
    "        self.lam = lam\n",
    "        self.dt = dt\n",
    "        self.n = 0  # Number in queue\n",
    "        self.buffer = 0 # Buffer time\n",
    "\n",
    "    def route_to(self):\n",
    "        r = np.random.sample()\n",
    "        s = 0\n",
    "        for id, prob in self.r.items():\n",
    "            s += prob\n",
    "            if r < s:\n",
    "                return id\n",
    "                \n",
    "    def step(self):\n",
    "        # No customers in this period\n",
    "        if self.buffer > self.dt:\n",
    "            self.buffer -= self.dt\n",
    "            return []\n",
    "\n",
    "        # Use up buffer and add one customer, this produces the effect of having\n",
    "        # the first taxi being served at time = 0\n",
    "        time_spent = self.buffer\n",
    "        num_samples = 1\n",
    "\n",
    "        # Sample from exponential distribution\n",
    "        while time_spent <= self.dt:\n",
    "            time_spent += sps.exponential(1.0 / self._lambda)\n",
    "            num_samples += 1\n",
    "        num_samples -= 1\n",
    "        self.buffer = time_spent - self.dt\n",
    "        \n",
    "        return [self.route_to() for _ in range(num_samples)]\n",
    "\n",
    "    def step(self):\n",
    "        num_samples = np.random.poisson(lam=self.lam * self.dt)\n",
    "        return [self.route_to() for _ in range(num_samples)]"
   ]
  },
  {
   "cell_type": "code",
   "execution_count": 60,
   "metadata": {
    "collapsed": false,
    "tags": [
     "worksheet-0"
    ]
   },
   "outputs": [
    {
     "data": {
      "text/plain": [
       "2"
      ]
     },
     "execution_count": 60,
     "metadata": {},
     "output_type": "execute_result"
    }
   ],
   "source": []
  }
 ],
 "metadata": {
  "kernelspec": {
   "display_name": "Python 2",
   "language": "python",
   "name": "python2"
  },
  "language_info": {
   "codemirror_mode": {
    "name": "ipython",
    "version": 2
   },
   "file_extension": ".py",
   "mimetype": "text/x-python",
   "name": "python",
   "nbconvert_exporter": "python",
   "pygments_lexer": "ipython2",
   "version": "2.7.10"
  },
  "name": "TaxiNetworks.ipynb"
 },
 "nbformat": 4,
 "nbformat_minor": 0
}
