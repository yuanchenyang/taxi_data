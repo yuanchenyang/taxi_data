{
 "cells": [
  {
   "cell_type": "markdown",
   "metadata": {
    "collapsed": true,
    "tags": [
     "worksheet-0"
    ]
   },
   "source": [
    "# Taxi Networks simulation\n",
    "\n",
    "In this notebook, we will demonstrate code that simulates the behavior of taxis\n",
    "in queueing networks. We are modeling this using a Jackson network, which models\n",
    "taxis as customers traveling in the network. Taxis queue at each station $$i$$,\n",
    "and are served by customers arriving at a rate of $$\\mu_i$$. After a customer\n",
    "gets on a taxi, it travels to another station $$j$$ with probability\n",
    "$$r_{ij}$$. We assume the taxis "
   ]
  },
  {
   "cell_type": "code",
   "execution_count": 26,
   "metadata": {
    "collapsed": false,
    "tags": [
     "worksheet-0"
    ]
   },
   "outputs": [],
   "source": [
    "import numpy as np\n",
    "import scipy.stats as sps\n",
    "from matplotlib import pyplot as plt\n",
    "%matplotlib inline"
   ]
  },
  {
   "cell_type": "markdown",
   "metadata": {
    "collapsed": true,
    "tags": [
     "worksheet-0"
    ]
   },
   "source": [
    "Here we define the a Jackson Network Node. "
   ]
  },
  {
   "cell_type": "code",
   "execution_count": 264,
   "metadata": {
    "collapsed": false,
    "tags": [
     "worksheet-0"
    ]
   },
   "outputs": [],
   "source": [
    "class Node:\n",
    "    '''A Node object in a Jackson network simulates a queue with an exponential\n",
    "    service time.'''\n",
    "    def __init__(self, lam, n, r, dt=1):\n",
    "        '''\n",
    "        lam    : Service rate (average vehicles per time), constant or a function\n",
    "                 of number of vehicles in node\n",
    "        n      : Number of vehicles in the node\n",
    "        r      : Routing probability from node id to probability\n",
    "        dt     : Timestep \n",
    "        '''\n",
    "        self.r = r\n",
    "        self.check_r()\n",
    "        self.lam = lam if callable(lam) else lambda x: lam\n",
    "        self.dt = dt\n",
    "        self.n = n  # Number in queue\n",
    "        \n",
    "    def check_r(self):\n",
    "        assert abs(sum(self.r.values()) - 1.0) < 1e-15, 'Routing probabilities do not sum to 1!'\n",
    "\n",
    "    def add(self, n):\n",
    "        self.n += n\n",
    "\n",
    "    def route_to(self):\n",
    "        '''Samples a destination from the routing probability distribution'''\n",
    "        p, s = np.random.sample(), 0\n",
    "        for id, prob in self.r.items():\n",
    "            s += prob\n",
    "            if p < s: return id\n",
    "        print p, s, id, self.r\n",
    "\n",
    "    def step(self):\n",
    "        '''Sample cars from Poisson distribution'''\n",
    "        num_samples = np.random.poisson(lam=self.lam(self.n) * self.dt)\n",
    "        destinations = [self.route_to() for _ in range(min(self.n, num_samples))]\n",
    "        self.n = max(self.n - num_samples, 0)\n",
    "        return destinations"
   ]
  },
  {
   "cell_type": "markdown",
   "metadata": {
    "collapsed": true,
    "tags": [
     "worksheet-0"
    ]
   },
   "source": [
    "Here we create a node, put 5 cars in it and simulate 5 time steps. Note that no\n",
    "more destinations are output after all 5 cars in this node has been served."
   ]
  },
  {
   "cell_type": "code",
   "execution_count": 248,
   "metadata": {
    "collapsed": false,
    "tags": [
     "worksheet-0"
    ]
   },
   "outputs": [
    {
     "data": {
      "text/plain": [
       "[['c', 'c'], ['c', 'b'], ['b'], [], []]"
      ]
     },
     "execution_count": 248,
     "metadata": {},
     "output_type": "execute_result"
    }
   ],
   "source": [
    "n1 = Node(2, 5, {'a': 0.2, 'b': 0.3, 'c': 0.5})\n",
    "[n1.step() for _ in range(5)]"
   ]
  },
  {
   "cell_type": "code",
   "execution_count": 340,
   "metadata": {
    "collapsed": false,
    "tags": [
     "worksheet-0"
    ]
   },
   "outputs": [],
   "source": [
    "def full_network(k, lam, n):\n",
    "    '''Creates a network of k nodes (fully connected graph) with equal routing\n",
    "    probabilities and service times, ignoring travel times. Each node starts\n",
    "    with n vehicles.'''\n",
    "    prob = 1.0 / (k-1) # Equal probability to go to each node\n",
    "    network = {}\n",
    "    for i in range(k):\n",
    "        network[i] = Node(lam, n, {j: prob for j in range(k) if j != i})\n",
    "    return network\n",
    "\n",
    "def linear_network(k, phi, lam, n):\n",
    "    '''A network of nodes, with a linear virtual passenger chain from node i\n",
    "    to node i+1, with service rate phi.'''\n",
    "    nw = full_network(k, lam, n=n)\n",
    "    for i, node in nw.items():\n",
    "        if i == k-1: # Don't alter last node in chain\n",
    "            continue\n",
    "        node.lam = lambda x: phi + lam\n",
    "        for j in node.r:\n",
    "            newr = float(lam * node.r[j]) / (lam + phi)\n",
    "            if j == i+1:\n",
    "                newr += float(phi) / (lam + phi)\n",
    "            node.r[j] = newr\n",
    "        node.check_r()\n",
    "    return nw            "
   ]
  },
  {
   "cell_type": "code",
   "execution_count": 341,
   "metadata": {
    "collapsed": false,
    "tags": [
     "worksheet-0"
    ]
   },
   "outputs": [
    {
     "name": "stdout",
     "output_type": "stream",
     "text": [
      "{0: 0.10582010582010581, 2: 0.15343915343915343, 3: 0.10582010582010581, 4: 0.10582010582010581, 5: 0.10582010582010581, 6: 0.10582010582010581, 7: 0.10582010582010581, 8: 0.10582010582010581, 9: 0.10582010582010581}\n",
      "{0: 0.1111111111111111, 1: 0.1111111111111111, 2: 0.1111111111111111, 3: 0.1111111111111111, 4: 0.1111111111111111, 5: 0.1111111111111111, 6: 0.1111111111111111, 7: 0.1111111111111111, 8: 0.1111111111111111}\n"
     ]
    }
   ],
   "source": [
    "test_nw = linear_network(10, 0.1, 2, 15)\n",
    "print test_nw[1].r\n",
    "print test_nw[9].r\n"
   ]
  },
  {
   "cell_type": "code",
   "execution_count": 366,
   "metadata": {
    "collapsed": false,
    "tags": [
     "worksheet-0"
    ]
   },
   "outputs": [
    {
     "name": "stdout",
     "output_type": "stream",
     "text": [
      "[  46.4689  118.3452  143.7224  164.7415  275.4051  140.2619  255.2805\n",
      "  170.5065   85.0351  600.2329]\n"
     ]
    }
   ],
   "source": [
    "from collections import Counter\n",
    "\n",
    "def network_tick(network):\n",
    "    '''Simulates one tick of a network'''\n",
    "    dest = Counter()\n",
    "    for node in network.values():\n",
    "        dest.update(node.step())\n",
    "    for i, count in dest.items():\n",
    "        network[i].add(count)\n",
    "\n",
    "def get_counts(network):\n",
    "    return zip(*[(i, node.n) for i, node in network.items()])\n",
    "\n",
    "test_nw = linear_network(10, 0.1, 2, 200)\n",
    "counts = np.zeros(10)\n",
    "for _ in range(10000):\n",
    "    network_tick(test_nw)\n",
    "    counts += np.array(get_counts(test_nw)[1])\n",
    "print counts/10000\n"
   ]
  }
 ],
 "metadata": {
  "kernelspec": {
   "display_name": "Python 2",
   "language": "python",
   "name": "python2"
  },
  "language_info": {
   "codemirror_mode": {
    "name": "ipython",
    "version": 2
   },
   "file_extension": ".py",
   "mimetype": "text/x-python",
   "name": "python",
   "nbconvert_exporter": "python",
   "pygments_lexer": "ipython2",
   "version": "2.7.10"
  },
  "name": "TaxiNetworks.ipynb"
 },
 "nbformat": 4,
 "nbformat_minor": 0
}
