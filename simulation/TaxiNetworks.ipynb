{
 "cells": [
  {
   "cell_type": "markdown",
   "metadata": {
    "collapsed": true,
    "tags": [
     "worksheet-0"
    ]
   },
   "source": [
    "# Taxi Networks simulation\n",
    "\n",
    "In this notebook, we will demonstrate code that simulates the behavior of taxis\n",
    "in queueing networks. We are modeling this using a Jackson network, which models\n",
    "taxis as customers traveling in the network. Taxis queue at each station $i$,\n",
    "and are served by customers arriving at a rate of $\\mu_i$. After a customer\n",
    "gets on a taxi, it travels to another station $j$ with probability\n",
    "$r_{ij}$. We assume the taxis "
   ]
  },
  {
   "cell_type": "code",
   "execution_count": 1,
   "metadata": {
    "collapsed": false,
    "tags": [
     "worksheet-0"
    ]
   },
   "outputs": [],
   "source": [
    "import numpy as np\n",
    "import scipy.linalg as la\n",
    "import scipy.stats as sps\n",
    "from matplotlib import pyplot as plt\n",
    "%matplotlib inline"
   ]
  },
  {
   "cell_type": "markdown",
   "metadata": {
    "collapsed": true,
    "tags": [
     "worksheet-0"
    ]
   },
   "source": [
    "Here we define the a Jackson Network Node. "
   ]
  },
  {
   "cell_type": "code",
   "execution_count": 2,
   "metadata": {
    "collapsed": false,
    "tags": [
     "worksheet-0"
    ]
   },
   "outputs": [],
   "source": [
    "def make_callable(x):\n",
    "    return x if callable(x) else lambda _: x\n",
    "\n",
    "class Node:\n",
    "    '''A Node object in a Jackson network simulates a queue with an exponential\n",
    "    service time.'''\n",
    "    def __init__(self, mu, n, r, dt=1):\n",
    "        '''\n",
    "        mu     : Service rate (average vehicles per time), constant or a function\n",
    "                 of number of vehicles in node\n",
    "        n      : Number of vehicles in the node\n",
    "        r      : Routing probability from node id to probability\n",
    "        dt     : Timestep \n",
    "        '''\n",
    "        self.r = r\n",
    "        self.check_r()\n",
    "        self.mu = make_callable(mu) \n",
    "        self.dt = dt\n",
    "        self.n = n  # Number in queue\n",
    "        \n",
    "    def check_r(self):\n",
    "        assert abs(sum(self.r.values()) - 1.0) < 1e-15, 'Routing probabilities do not sum to 1!'\n",
    "\n",
    "    def add(self, n):\n",
    "        self.n += n\n",
    "\n",
    "    def route_to(self):\n",
    "        '''Samples a destination from the routing probability distribution'''\n",
    "        p, s = np.random.sample(), 0\n",
    "        for id, prob in self.r.items():\n",
    "            s += prob\n",
    "            if p < s: return id\n",
    "        print p, s, id, self.r\n",
    "\n",
    "    def step(self):\n",
    "        '''Sample cars from Poisson distribution'''\n",
    "        num_samples = np.random.poisson(lam=self.mu(self.n) * self.dt)\n",
    "        destinations = [self.route_to() for _ in range(min(self.n, num_samples))]\n",
    "        self.n = max(self.n - num_samples, 0)\n",
    "        return destinations"
   ]
  },
  {
   "cell_type": "markdown",
   "metadata": {
    "collapsed": true,
    "tags": [
     "worksheet-0"
    ]
   },
   "source": [
    "Here we create a node, put 5 cars in it and simulate 5 time steps. Note that no\n",
    "more destinations are output after all 5 cars in this node has been served."
   ]
  },
  {
   "cell_type": "code",
   "execution_count": 3,
   "metadata": {
    "collapsed": false,
    "tags": [
     "worksheet-0"
    ]
   },
   "outputs": [
    {
     "data": {
      "text/plain": [
       "[[], ['a'], ['c'], ['c', 'b', 'a'], []]"
      ]
     },
     "execution_count": 3,
     "metadata": {},
     "output_type": "execute_result"
    }
   ],
   "source": [
    "n1 = Node(2, 5, {'a': 0.2, 'b': 0.3, 'c': 0.5})\n",
    "[n1.step() for _ in range(5)]"
   ]
  },
  {
   "cell_type": "code",
   "execution_count": 4,
   "metadata": {
    "collapsed": false,
    "tags": [
     "worksheet-0"
    ]
   },
   "outputs": [],
   "source": [
    "def full_network(k, lam, n):\n",
    "    '''Creates a network of k nodes (fully connected graph) with equal routing\n",
    "    probabilities and service times, ignoring travel times. Each node starts\n",
    "    with n vehicles.'''\n",
    "    prob = 1.0 / (k-1) # Equal probability to go to each node\n",
    "    network = {}\n",
    "    for i in range(k):\n",
    "        network[i] = Node(lam, n, {j: prob for j in range(k) if j != i})\n",
    "    return network\n",
    "\n",
    "def linear_network(k, psi, lam, n):\n",
    "    '''A network of nodes, with a linear virtual passenger chain from node i\n",
    "    to node i+1, with service rate psi.'''\n",
    "    lam, psi = make_callable(lam), make_callable(psi)\n",
    "    nw = full_network(k, lam, n=n)    \n",
    "    for i, node in nw.items():\n",
    "        if i == k-1: # Don't alter last node in chain\n",
    "            continue\n",
    "        node.mu = lambda x: psi(i) + lam(i)\n",
    "        for j in node.r:\n",
    "            newr = float(lam(i) * node.r[j]) / (lam(i) + psi(i))\n",
    "            if j == i+1:\n",
    "                newr += float(psi(i)) / (lam(i) + psi(i))\n",
    "            node.r[j] = newr\n",
    "        node.check_r()\n",
    "    return nw\n",
    "\n",
    "def network_to_matrix(nw):\n",
    "    n = len(nw)\n",
    "    res = []\n",
    "    for i in range(n):\n",
    "        for j in range(n):\n",
    "            res.append(nw[i].r.get(j) or 0)\n",
    "    return np.reshape(res, (n, n)).T"
   ]
  },
  {
   "cell_type": "code",
   "execution_count": 5,
   "metadata": {
    "collapsed": false,
    "tags": [
     "worksheet-0"
    ]
   },
   "outputs": [
    {
     "name": "stdout",
     "output_type": "stream",
     "text": [
      "{0: 0.22727272727272727, 2: 0.3181818181818182, 3: 0.22727272727272727, 4: 0.22727272727272727}\n",
      "{0: 0.25, 1: 0.25, 2: 0.25, 3: 0.25}\n"
     ]
    }
   ],
   "source": [
    "test_nw = linear_network(5, 0.1, 1, 15)\n",
    "print test_nw[1].r\n",
    "print test_nw[4].r"
   ]
  },
  {
   "cell_type": "code",
   "execution_count": 6,
   "metadata": {
    "collapsed": false,
    "tags": [
     "worksheet-0"
    ]
   },
   "outputs": [
    {
     "name": "stdout",
     "output_type": "stream",
     "text": [
      "[8.0958000000000006, 43.594360000000002, 54.317160000000001, 44.671239999999997, 29.618680000000001, 26.49456, 24.205400000000001, 36.865200000000002, 23.337039999999998, 708.80056000000002]\n"
     ]
    },
    {
     "data": {
      "image/png": "[encoded data removed]",
      "text/plain": [
       "<matplotlib.figure.Figure at 0x7fda58875d50>"
      ]
     },
     "metadata": {},
     "output_type": "display_data"
    }
   ],
   "source": [
    "from collections import Counter\n",
    "\n",
    "def network_tick(network):\n",
    "    '''Simulates one tick of a network'''\n",
    "    dest = Counter()\n",
    "    for node in network.values():\n",
    "        dest.update(node.step())\n",
    "    for i, count in dest.items():\n",
    "        network[i].add(count)\n",
    "\n",
    "def get_counts(network):\n",
    "    return zip(*[(i, node.n) for i, node in network.items()])\n",
    "\n",
    "test_nw = linear_network(10, 0.1, 1, 100)\n",
    "counts = []\n",
    "steps = 25000\n",
    "\n",
    "for _ in range(steps):\n",
    "    network_tick(test_nw)\n",
    "    counts.append(get_counts(test_nw)[1])\n",
    "\n",
    "x = range(steps)\n",
    "for y in zip(*counts):\n",
    "    plt.plot(x, y)\n",
    "\n",
    "print map(np.mean, zip(*counts))"
   ]
  },
  {
   "cell_type": "markdown",
   "metadata": {
    "collapsed": true,
    "tags": [
     "worksheet-0"
    ]
   },
   "source": [
    "# Sandbox for math"
   ]
  },
  {
   "cell_type": "code",
   "execution_count": 27,
   "metadata": {
    "collapsed": false,
    "tags": [
     "worksheet-0"
    ]
   },
   "outputs": [
    {
     "name": "stderr",
     "output_type": "stream",
     "text": [
      "/usr/lib/python2.7/site-packages/IPython/kernel/__main__.py:27: ComplexWarning: Casting complex values to real discards the imaginary part\n"
     ]
    },
    {
     "name": "stdout",
     "output_type": "stream",
     "text": [
      "[[ 0.       0.24998  0.24998  0.24998  0.25   ]\n",
      " [ 0.25007  0.       0.24998  0.24998  0.25   ]\n",
      " [ 0.24998  0.25007  0.       0.24998  0.25   ]\n",
      " [ 0.24998  0.24998  0.25007  0.       0.25   ]\n",
      " [ 0.24998  0.24998  0.24998  0.25007  0.     ]]\n",
      "[ 0.99984002+0.j  0.99992000+0.j  0.99992001+0.j  0.99992001+0.j\n",
      "  1.00000000+0.j]\n",
      "[ 29.93806828  29.99995281  29.99995777  29.99995777  30.06206337]\n"
     ]
    }
   ],
   "source": [
    "def mva(v, mu, n):\n",
    "    dim = len(v)\n",
    "    gamma = v / mu\n",
    "    L = np.zeros(dim)\n",
    "    for k in range(1, n+1):\n",
    "        L1 = np.ones(dim) + L\n",
    "        f = k / float(gamma.dot(L1))\n",
    "        L = f * gamma * L1\n",
    "    return L\n",
    "\n",
    "def get_first_evac(m):\n",
    "    evals, evecs = la.eig(m, right=True)\n",
    "    max_index = max(enumerate(evals), key=lambda x: abs(x[1]))[0]\n",
    "    return evecs[:,max_index]\n",
    "\n",
    "p_real = 1\n",
    "p_virt = 0.0001\n",
    "n = 5\n",
    "m = network_to_matrix(linear_network(n, p_virt, p_real, 0))\n",
    "mu = [(p_real + p_virt)]*(n-1) + [p_real]\n",
    "print np.round(m, 5)\n",
    "\n",
    "first_evec = get_first_evac(m)\n",
    "first_evec /= first_evec[-1]\n",
    "\n",
    "print first_evec / mu\n",
    "first_evec = first_evec.astype(float)\n",
    "print mva(first_evec, mu, n*30)"
   ]
  },
  {
   "cell_type": "code",
   "execution_count": 15,
   "metadata": {
    "collapsed": false,
    "tags": [
     "worksheet-0"
    ]
   },
   "outputs": [
    {
     "name": "stdout",
     "output_type": "stream",
     "text": [
      "[ 0.25+0.j  0.50+0.j  0.75+0.j  1.00+0.j  1.00+0.j]\n"
     ]
    }
   ],
   "source": [
    "m = np.array([[0,0,0,0,0.25], [1,0,0,0,0.25], [0,1,0,0,0.25], [0,0,1,0,0.25], [0,0,0,1,0]])\n",
    "\n",
    "first_evec = get_first_evac(m)\n",
    "first_evec /= first_evec[-1]\n",
    "print first_evec\n"
   ]
  }
 ],
 "metadata": {
  "kernelspec": {
   "display_name": "Python 2",
   "language": "python",
   "name": "python2"
  },
  "language_info": {
   "codemirror_mode": {
    "name": "ipython",
    "version": 2
   },
   "file_extension": ".py",
   "mimetype": "text/x-python",
   "name": "python",
   "nbconvert_exporter": "python",
   "pygments_lexer": "ipython2",
   "version": "2.7.10"
  },
  "name": "TaxiNetworks.ipynb"
 },
 "nbformat": 4,
 "nbformat_minor": 0
}
