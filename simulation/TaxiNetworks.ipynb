{
 "cells": [
  {
   "cell_type": "markdown",
   "metadata": {
    "collapsed": true,
    "tags": [
     "worksheet-0"
    ]
   },
   "source": [
    "# Taxi Networks simulation\n",
    "\n",
    "In this notebook, we will demonstrate code that simulates the behavior of taxis\n",
    "in queueing networks. We are modeling this using a Jackson network, which models\n",
    "taxis as customers traveling in the network. Taxis queue at each station $i$,\n",
    "and are served by customers arriving at a rate of $\\mu_i$. After a customer\n",
    "gets on a taxi, it travels to another station $j$ with probability\n",
    "$r_{ij}$. We assume the taxis "
   ]
  },
  {
   "cell_type": "code",
   "execution_count": 2,
   "metadata": {
    "collapsed": false,
    "tags": [
     "worksheet-0"
    ]
   },
   "outputs": [],
   "source": [
    "import numpy as np\n",
    "import scipy.linalg as la\n",
    "import scipy.stats as sps\n",
    "from matplotlib import pyplot as plt\n",
    "from simulation import *\n",
    "%matplotlib inline"
   ]
  },
  {
   "cell_type": "markdown",
   "metadata": {
    "collapsed": true,
    "tags": [
     "worksheet-0"
    ]
   },
   "source": [
    "Here we create a node, put 5 cars in it and simulate 5 time steps. Note that no\n",
    "more destinations are output after all 5 cars in this node has been served."
   ]
  },
  {
   "cell_type": "code",
   "execution_count": 8,
   "metadata": {
    "collapsed": false,
    "tags": [
     "worksheet-0"
    ]
   },
   "outputs": [
    {
     "data": {
      "text/plain": [
       "[['c', 'c', 'a'], [], ['a', 'c'], [], []]"
      ]
     },
     "execution_count": 8,
     "metadata": {},
     "output_type": "execute_result"
    }
   ],
   "source": [
    "n1 = Node(2, 5, {'a': 0.2, 'b': 0.3, 'c': 0.5})\n",
    "[n1.step() for _ in range(5)]"
   ]
  },
  {
   "cell_type": "code",
   "execution_count": 9,
   "metadata": {
    "collapsed": false,
    "tags": [
     "worksheet-0"
    ]
   },
   "outputs": [
    {
     "name": "stdout",
     "output_type": "stream",
     "text": [
      "{0: 0.22727272727272727, 2: 0.3181818181818182, 3: 0.22727272727272727, 4: 0.22727272727272727}\n",
      "{0: 0.25, 1: 0.25, 2: 0.25, 3: 0.25}\n"
     ]
    }
   ],
   "source": [
    "test_nw = linear_network(5, 0.1, 1, 15)\n",
    "print test_nw[1].r\n",
    "print test_nw[4].r"
   ]
  },
  {
   "cell_type": "code",
   "execution_count": 10,
   "metadata": {
    "collapsed": false,
    "tags": [
     "worksheet-0"
    ]
   },
   "outputs": [
    {
     "data": {
      "text/plain": [
       "<matplotlib.figure.Figure at 0x7f83a330fed0>"
      ]
     },
     "metadata": {},
     "output_type": "display_data"
    },
    {
     "name": "stdout",
     "output_type": "stream",
     "text": [
      "[8.5117999999999991, 25.47784, 65.7988, 33.591999999999999, 20.997640000000001, 19.132999999999999, 27.780760000000001, 22.962800000000001, 24.83136, 750.91399999999999]\n"
     ]
    }
   ],
   "source": [
    "from collections import Counter\n",
    "\n",
    "test_nw = linear_network(10, 0.1, 1, 100)\n",
    "counts = []\n",
    "steps = 25000\n",
    "\n",
    "for _ in range(steps):\n",
    "    network_tick(test_nw)\n",
    "    counts.append(get_counts(test_nw)[1])\n",
    "\n",
    "x = range(steps)\n",
    "for y in zip(*counts):\n",
    "    plt.plot(x, y)\n",
    "\n",
    "print map(np.mean, zip(*counts))"
   ]
  },
  {
   "cell_type": "markdown",
   "metadata": {
    "collapsed": true,
    "tags": [
     "worksheet-0"
    ]
   },
   "source": [
    "# Sandbox for math"
   ]
  },
  {
   "cell_type": "code",
   "execution_count": 11,
   "metadata": {
    "collapsed": false,
    "tags": [
     "worksheet-0"
    ]
   },
   "outputs": [
    {
     "name": "stderr",
     "output_type": "stream",
     "text": [
      "/usr/lib/python2.7/site-packages/IPython/kernel/__main__.py:27: ComplexWarning: Casting complex values to real discards the imaginary part\n"
     ]
    },
    {
     "name": "stdout",
     "output_type": "stream",
     "text": [
      "[[ 0.       0.24998  0.24998  0.24998  0.25   ]\n",
      " [ 0.25007  0.       0.24998  0.24998  0.25   ]\n",
      " [ 0.24998  0.25007  0.       0.24998  0.25   ]\n",
      " [ 0.24998  0.24998  0.25007  0.       0.25   ]\n",
      " [ 0.24998  0.24998  0.24998  0.25007  0.     ]]\n",
      "[ 0.99984002+0.j  0.99992000+0.j  0.99992001+0.j  0.99992001+0.j\n",
      "  1.00000000+0.j]\n",
      "[ 29.93806828  29.99995281  29.99995777  29.99995777  30.06206337]\n"
     ]
    }
   ],
   "source": [
    "def mva(v, mu, n):\n",
    "    dim = len(v)\n",
    "    gamma = v / mu\n",
    "    L = np.zeros(dim)\n",
    "    for k in range(1, n+1):\n",
    "        L1 = np.ones(dim) + L\n",
    "        f = k / float(gamma.dot(L1))\n",
    "        L = f * gamma * L1\n",
    "    return L\n",
    "\n",
    "def get_first_evac(m):\n",
    "    evals, evecs = la.eig(m, right=True)\n",
    "    max_index = max(enumerate(evals), key=lambda x: abs(x[1]))[0]\n",
    "    return evecs[:,max_index]\n",
    "\n",
    "p_real = 1\n",
    "p_virt = 0.0001\n",
    "n = 5\n",
    "m = network_to_matrix(linear_network(n, p_virt, p_real, 0))\n",
    "mu = [(p_real + p_virt)]*(n-1) + [p_real]\n",
    "print np.round(m, 5)\n",
    "\n",
    "first_evec = get_first_evac(m)\n",
    "first_evec /= first_evec[-1]\n",
    "\n",
    "print first_evec / mu\n",
    "first_evec = first_evec.astype(float)\n",
    "print mva(first_evec, mu, n*30)"
   ]
  },
  {
   "cell_type": "code",
   "execution_count": 12,
   "metadata": {
    "collapsed": false,
    "tags": [
     "worksheet-0"
    ]
   },
   "outputs": [
    {
     "name": "stdout",
     "output_type": "stream",
     "text": [
      "[ 0.25+0.j  0.50+0.j  0.75+0.j  1.00+0.j  1.00+0.j]\n"
     ]
    }
   ],
   "source": [
    "m = np.array([[0,0,0,0,0.25], [1,0,0,0,0.25], [0,1,0,0,0.25], [0,0,1,0,0.25], [0,0,0,1,0]])\n",
    "\n",
    "first_evec = get_first_evac(m)\n",
    "first_evec /= first_evec[-1]\n",
    "print first_evec\n"
   ]
  }
 ],
 "metadata": {
  "kernelspec": {
   "display_name": "Python 2",
   "language": "python",
   "name": "python2"
  },
  "language_info": {
   "codemirror_mode": {
    "name": "ipython",
    "version": 2
   },
   "file_extension": ".py",
   "mimetype": "text/x-python",
   "name": "python",
   "nbconvert_exporter": "python",
   "pygments_lexer": "ipython2",
   "version": "2.7.10"
  },
  "name": "TaxiNetworks.ipynb"
 },
 "nbformat": 4,
 "nbformat_minor": 0
}
